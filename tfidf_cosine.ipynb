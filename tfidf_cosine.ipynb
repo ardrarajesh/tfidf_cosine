{
 "cells": [
  {
   "cell_type": "code",
   "execution_count": 1,
   "id": "e4e1e176",
   "metadata": {},
   "outputs": [],
   "source": [
    "import pandas as pd\n",
    "import numpy as np"
   ]
  },
  {
   "cell_type": "code",
   "execution_count": 2,
   "id": "b0aa3ba0",
   "metadata": {},
   "outputs": [],
   "source": [
    "df=pd.read_csv(r\"C:\\Users\\ardrakr\\Downloads\\archive (5)\\india-news-headlines.csv\")"
   ]
  },
  {
   "cell_type": "code",
   "execution_count": 3,
   "id": "80cdcc42",
   "metadata": {},
   "outputs": [
    {
     "data": {
      "text/html": [
       "<div>\n",
       "<style scoped>\n",
       "    .dataframe tbody tr th:only-of-type {\n",
       "        vertical-align: middle;\n",
       "    }\n",
       "\n",
       "    .dataframe tbody tr th {\n",
       "        vertical-align: top;\n",
       "    }\n",
       "\n",
       "    .dataframe thead th {\n",
       "        text-align: right;\n",
       "    }\n",
       "</style>\n",
       "<table border=\"1\" class=\"dataframe\">\n",
       "  <thead>\n",
       "    <tr style=\"text-align: right;\">\n",
       "      <th></th>\n",
       "      <th>publish_date</th>\n",
       "      <th>headline_category</th>\n",
       "      <th>headline_text</th>\n",
       "    </tr>\n",
       "  </thead>\n",
       "  <tbody>\n",
       "    <tr>\n",
       "      <th>0</th>\n",
       "      <td>20010102</td>\n",
       "      <td>unknown</td>\n",
       "      <td>Status quo will not be disturbed at Ayodhya; s...</td>\n",
       "    </tr>\n",
       "    <tr>\n",
       "      <th>1</th>\n",
       "      <td>20010102</td>\n",
       "      <td>unknown</td>\n",
       "      <td>Fissures in Hurriyat over Pak visit</td>\n",
       "    </tr>\n",
       "    <tr>\n",
       "      <th>2</th>\n",
       "      <td>20010102</td>\n",
       "      <td>unknown</td>\n",
       "      <td>America's unwanted heading for India?</td>\n",
       "    </tr>\n",
       "    <tr>\n",
       "      <th>3</th>\n",
       "      <td>20010102</td>\n",
       "      <td>unknown</td>\n",
       "      <td>For bigwigs; it is destination Goa</td>\n",
       "    </tr>\n",
       "    <tr>\n",
       "      <th>4</th>\n",
       "      <td>20010102</td>\n",
       "      <td>unknown</td>\n",
       "      <td>Extra buses to clear tourist traffic</td>\n",
       "    </tr>\n",
       "    <tr>\n",
       "      <th>...</th>\n",
       "      <td>...</td>\n",
       "      <td>...</td>\n",
       "      <td>...</td>\n",
       "    </tr>\n",
       "    <tr>\n",
       "      <th>1048570</th>\n",
       "      <td>20110123</td>\n",
       "      <td>city.lucknow</td>\n",
       "      <td>Police recover 100 'improper' SIMs</td>\n",
       "    </tr>\n",
       "    <tr>\n",
       "      <th>1048571</th>\n",
       "      <td>20110123</td>\n",
       "      <td>city.lucknow</td>\n",
       "      <td>5 new KGBVs for Lucknow</td>\n",
       "    </tr>\n",
       "    <tr>\n",
       "      <th>1048572</th>\n",
       "      <td>20110123</td>\n",
       "      <td>india</td>\n",
       "      <td>70% can't afford sanitary napkins; reveals study</td>\n",
       "    </tr>\n",
       "    <tr>\n",
       "      <th>1048573</th>\n",
       "      <td>20110123</td>\n",
       "      <td>city.lucknow</td>\n",
       "      <td>Cops ask internet cafe; PCO owners to be more ...</td>\n",
       "    </tr>\n",
       "    <tr>\n",
       "      <th>1048574</th>\n",
       "      <td>20110123</td>\n",
       "      <td>home.sunday-times.deep-focus</td>\n",
       "      <td>Police to peon: Crowd control a joint venture</td>\n",
       "    </tr>\n",
       "  </tbody>\n",
       "</table>\n",
       "<p>1048575 rows × 3 columns</p>\n",
       "</div>"
      ],
      "text/plain": [
       "         publish_date             headline_category  \\\n",
       "0            20010102                       unknown   \n",
       "1            20010102                       unknown   \n",
       "2            20010102                       unknown   \n",
       "3            20010102                       unknown   \n",
       "4            20010102                       unknown   \n",
       "...               ...                           ...   \n",
       "1048570      20110123                  city.lucknow   \n",
       "1048571      20110123                  city.lucknow   \n",
       "1048572      20110123                         india   \n",
       "1048573      20110123                  city.lucknow   \n",
       "1048574      20110123  home.sunday-times.deep-focus   \n",
       "\n",
       "                                             headline_text  \n",
       "0        Status quo will not be disturbed at Ayodhya; s...  \n",
       "1                      Fissures in Hurriyat over Pak visit  \n",
       "2                    America's unwanted heading for India?  \n",
       "3                       For bigwigs; it is destination Goa  \n",
       "4                     Extra buses to clear tourist traffic  \n",
       "...                                                    ...  \n",
       "1048570                 Police recover 100 'improper' SIMs  \n",
       "1048571                            5 new KGBVs for Lucknow  \n",
       "1048572   70% can't afford sanitary napkins; reveals study  \n",
       "1048573  Cops ask internet cafe; PCO owners to be more ...  \n",
       "1048574      Police to peon: Crowd control a joint venture  \n",
       "\n",
       "[1048575 rows x 3 columns]"
      ]
     },
     "execution_count": 3,
     "metadata": {},
     "output_type": "execute_result"
    }
   ],
   "source": [
    "df"
   ]
  },
  {
   "cell_type": "code",
   "execution_count": 4,
   "id": "797ef693",
   "metadata": {},
   "outputs": [
    {
     "data": {
      "text/plain": [
       "publish_date         0\n",
       "headline_category    0\n",
       "headline_text        0\n",
       "dtype: int64"
      ]
     },
     "execution_count": 4,
     "metadata": {},
     "output_type": "execute_result"
    }
   ],
   "source": [
    "df.isnull().sum()"
   ]
  },
  {
   "cell_type": "code",
   "execution_count": 5,
   "id": "fa92015a",
   "metadata": {},
   "outputs": [
    {
     "data": {
      "text/plain": [
       "0          False\n",
       "1          False\n",
       "2          False\n",
       "3          False\n",
       "4          False\n",
       "           ...  \n",
       "1048570    False\n",
       "1048571    False\n",
       "1048572    False\n",
       "1048573    False\n",
       "1048574    False\n",
       "Length: 1048575, dtype: bool"
      ]
     },
     "execution_count": 5,
     "metadata": {},
     "output_type": "execute_result"
    }
   ],
   "source": [
    "df.duplicated()"
   ]
  },
  {
   "cell_type": "code",
   "execution_count": 6,
   "id": "884b37dd",
   "metadata": {},
   "outputs": [
    {
     "data": {
      "text/plain": [
       "10118"
      ]
     },
     "execution_count": 6,
     "metadata": {},
     "output_type": "execute_result"
    }
   ],
   "source": [
    "df.duplicated().sum()"
   ]
  },
  {
   "cell_type": "code",
   "execution_count": 7,
   "id": "2d13342c",
   "metadata": {},
   "outputs": [],
   "source": [
    "df.drop_duplicates(inplace=True)"
   ]
  },
  {
   "cell_type": "code",
   "execution_count": 8,
   "id": "bbcaa9b3",
   "metadata": {},
   "outputs": [
    {
     "data": {
      "text/plain": [
       "0"
      ]
     },
     "execution_count": 8,
     "metadata": {},
     "output_type": "execute_result"
    }
   ],
   "source": [
    "df.duplicated().sum()"
   ]
  },
  {
   "cell_type": "code",
   "execution_count": 9,
   "id": "80f64240",
   "metadata": {},
   "outputs": [
    {
     "name": "stderr",
     "output_type": "stream",
     "text": [
      "<frozen importlib._bootstrap>:219: RuntimeWarning: scipy._lib.messagestream.MessageStream size changed, may indicate binary incompatibility. Expected 56 from C header, got 64 from PyObject\n"
     ]
    }
   ],
   "source": [
    "from sklearn.feature_extraction.text import TfidfVectorizer"
   ]
  },
  {
   "cell_type": "code",
   "execution_count": 10,
   "id": "dcabb737",
   "metadata": {},
   "outputs": [],
   "source": [
    "# Initialize the TfidfVectorizer\n",
    "tfidf = TfidfVectorizer(max_df=0.3,         # drop words that occur in more than X percent of documents\n",
    "                             #min_df=8,      # only use words that appear at least X times\n",
    "                             stop_words='english', # remove stop words\n",
    "                             lowercase=True, # Convert everything to lower case \n",
    "                             use_idf=True,   # Use idf\n",
    "                             norm=u'l2',     # Normalization\n",
    "                             smooth_idf=True) # Prevents divide-by-zero errors)"
   ]
  },
  {
   "cell_type": "code",
   "execution_count": 11,
   "id": "3ff52a32",
   "metadata": {},
   "outputs": [],
   "source": [
    "# Calculate the TF-IDF scores for the documents\n",
    "tfidf_matrix = tfidf.fit_transform(df['headline_text'])"
   ]
  },
  {
   "cell_type": "code",
   "execution_count": 12,
   "id": "7d263261",
   "metadata": {},
   "outputs": [
    {
     "name": "stdout",
     "output_type": "stream",
     "text": [
      "  (0, 95058)\t0.3744676512979461\n",
      "  (0, 78953)\t0.2661568316817221\n",
      "  (0, 9851)\t0.37205452299720804\n",
      "  (0, 27287)\t0.5270960396202857\n",
      "  (0, 71714)\t0.4826408200892107\n",
      "  (0, 85637)\t0.3738148670105184\n",
      "  (1, 96744)\t0.3971347191836554\n",
      "  (1, 65189)\t0.326108211312187\n",
      "  (1, 41424)\t0.5030946229564341\n",
      "  (1, 33186)\t0.6948620364403343\n",
      "  (2, 42848)\t0.25556734646347734\n",
      "  (2, 39511)\t0.5362365856473605\n",
      "  (2, 94331)\t0.6205290677206542\n",
      "  (2, 6393)\t0.5119368435155\n",
      "  (3, 36580)\t0.44945517854123884\n",
      "  (3, 25528)\t0.5942156742807139\n",
      "  (3, 13400)\t0.6670065778697987\n",
      "  (4, 91442)\t0.37693212434905354\n",
      "  (4, 91307)\t0.4839722987399128\n",
      "  (4, 20028)\t0.4466822844860874\n",
      "  (4, 16195)\t0.43670526715051106\n",
      "  (4, 31716)\t0.48317329609096266\n",
      "  (5, 75479)\t0.6604803435582727\n",
      "  (5, 91563)\t0.4197087561373993\n",
      "  (5, 69295)\t0.26800694604539266\n",
      "  :\t:\n",
      "  (1038452, 73729)\t0.43345353999852043\n",
      "  (1038452, 145)\t0.3578494343248117\n",
      "  (1038452, 68661)\t0.2577971854940705\n",
      "  (1038453, 48560)\t0.8272733198085424\n",
      "  (1038453, 53146)\t0.4763382944680844\n",
      "  (1038453, 61896)\t0.2978601745050684\n",
      "  (1038454, 60780)\t0.5334033706055512\n",
      "  (1038454, 4882)\t0.4256298861575971\n",
      "  (1038454, 78133)\t0.44764135606290784\n",
      "  (1038454, 2721)\t0.3440648758571225\n",
      "  (1038454, 75249)\t0.3570863452659506\n",
      "  (1038454, 86352)\t0.29672540134659503\n",
      "  (1038455, 16504)\t0.4252373177911121\n",
      "  (1038455, 96307)\t0.4506926996687181\n",
      "  (1038455, 66713)\t0.4556682013998998\n",
      "  (1038455, 43829)\t0.3520336446703405\n",
      "  (1038455, 64813)\t0.33601904965549395\n",
      "  (1038455, 8859)\t0.34106865270611875\n",
      "  (1038455, 21872)\t0.23505635427720706\n",
      "  (1038456, 67044)\t0.5063902541429783\n",
      "  (1038456, 95801)\t0.4542792994639032\n",
      "  (1038456, 21685)\t0.3678356940335963\n",
      "  (1038456, 22856)\t0.42965805939766055\n",
      "  (1038456, 68661)\t0.2558355762636368\n",
      "  (1038456, 46196)\t0.3896642666384832\n"
     ]
    }
   ],
   "source": [
    "print(tfidf_matrix) "
   ]
  },
  {
   "cell_type": "code",
   "execution_count": 13,
   "id": "7171f47c",
   "metadata": {},
   "outputs": [
    {
     "name": "stderr",
     "output_type": "stream",
     "text": [
      "C:\\Users\\ardrakr\\anaconda3\\lib\\site-packages\\sklearn\\utils\\deprecation.py:87: FutureWarning: Function get_feature_names is deprecated; get_feature_names is deprecated in 1.0 and will be removed in 1.2. Please use get_feature_names_out instead.\n",
      "  warnings.warn(msg, category=FutureWarning)\n"
     ]
    }
   ],
   "source": [
    "df_tfidf = pd.DataFrame(tfidf_matrix[0].T.todense(), index = tfidf.get_feature_names(), columns=[\"TF-IDF\"])\n",
    "\n",
    "df_tfidf = df_tfidf.sort_values('TF-IDF', ascending=False)"
   ]
  },
  {
   "cell_type": "code",
   "execution_count": 14,
   "id": "fc9d311f",
   "metadata": {},
   "outputs": [
    {
     "data": {
      "text/html": [
       "<div>\n",
       "<style scoped>\n",
       "    .dataframe tbody tr th:only-of-type {\n",
       "        vertical-align: middle;\n",
       "    }\n",
       "\n",
       "    .dataframe tbody tr th {\n",
       "        vertical-align: top;\n",
       "    }\n",
       "\n",
       "    .dataframe thead th {\n",
       "        text-align: right;\n",
       "    }\n",
       "</style>\n",
       "<table border=\"1\" class=\"dataframe\">\n",
       "  <thead>\n",
       "    <tr style=\"text-align: right;\">\n",
       "      <th></th>\n",
       "      <th>TF-IDF</th>\n",
       "    </tr>\n",
       "  </thead>\n",
       "  <tbody>\n",
       "    <tr>\n",
       "      <th>disturbed</th>\n",
       "      <td>0.527096</td>\n",
       "    </tr>\n",
       "    <tr>\n",
       "      <th>quo</th>\n",
       "      <td>0.482641</td>\n",
       "    </tr>\n",
       "    <tr>\n",
       "      <th>vajpayee</th>\n",
       "      <td>0.374468</td>\n",
       "    </tr>\n",
       "    <tr>\n",
       "      <th>status</th>\n",
       "      <td>0.373815</td>\n",
       "    </tr>\n",
       "    <tr>\n",
       "      <th>ayodhya</th>\n",
       "      <td>0.372055</td>\n",
       "    </tr>\n",
       "    <tr>\n",
       "      <th>...</th>\n",
       "      <td>...</td>\n",
       "    </tr>\n",
       "    <tr>\n",
       "      <th>flexible</th>\n",
       "      <td>0.000000</td>\n",
       "    </tr>\n",
       "    <tr>\n",
       "      <th>flexibility</th>\n",
       "      <td>0.000000</td>\n",
       "    </tr>\n",
       "    <tr>\n",
       "      <th>flexibile</th>\n",
       "      <td>0.000000</td>\n",
       "    </tr>\n",
       "    <tr>\n",
       "      <th>flexi</th>\n",
       "      <td>0.000000</td>\n",
       "    </tr>\n",
       "    <tr>\n",
       "      <th>zzzz</th>\n",
       "      <td>0.000000</td>\n",
       "    </tr>\n",
       "  </tbody>\n",
       "</table>\n",
       "<p>100147 rows × 1 columns</p>\n",
       "</div>"
      ],
      "text/plain": [
       "               TF-IDF\n",
       "disturbed    0.527096\n",
       "quo          0.482641\n",
       "vajpayee     0.374468\n",
       "status       0.373815\n",
       "ayodhya      0.372055\n",
       "...               ...\n",
       "flexible     0.000000\n",
       "flexibility  0.000000\n",
       "flexibile    0.000000\n",
       "flexi        0.000000\n",
       "zzzz         0.000000\n",
       "\n",
       "[100147 rows x 1 columns]"
      ]
     },
     "execution_count": 14,
     "metadata": {},
     "output_type": "execute_result"
    }
   ],
   "source": [
    "df_tfidf"
   ]
  },
  {
   "cell_type": "code",
   "execution_count": 15,
   "id": "6e727060",
   "metadata": {},
   "outputs": [
    {
     "name": "stderr",
     "output_type": "stream",
     "text": [
      "C:\\Users\\ardrakr\\anaconda3\\lib\\site-packages\\sklearn\\utils\\deprecation.py:87: FutureWarning: Function get_feature_names is deprecated; get_feature_names is deprecated in 1.0 and will be removed in 1.2. Please use get_feature_names_out instead.\n",
      "  warnings.warn(msg, category=FutureWarning)\n"
     ]
    }
   ],
   "source": [
    "df_tfidf2 = pd.DataFrame(tfidf_matrix[1].T.todense(), index = tfidf.get_feature_names(), columns=[\"TF-IDF\"])\n",
    "\n",
    "df_tfidf2 = df_tfidf2.sort_values('TF-IDF', ascending=False)"
   ]
  },
  {
   "cell_type": "code",
   "execution_count": 16,
   "id": "9cb87aed",
   "metadata": {},
   "outputs": [
    {
     "data": {
      "text/html": [
       "<div>\n",
       "<style scoped>\n",
       "    .dataframe tbody tr th:only-of-type {\n",
       "        vertical-align: middle;\n",
       "    }\n",
       "\n",
       "    .dataframe tbody tr th {\n",
       "        vertical-align: top;\n",
       "    }\n",
       "\n",
       "    .dataframe thead th {\n",
       "        text-align: right;\n",
       "    }\n",
       "</style>\n",
       "<table border=\"1\" class=\"dataframe\">\n",
       "  <thead>\n",
       "    <tr style=\"text-align: right;\">\n",
       "      <th></th>\n",
       "      <th>TF-IDF</th>\n",
       "    </tr>\n",
       "  </thead>\n",
       "  <tbody>\n",
       "    <tr>\n",
       "      <th>fissures</th>\n",
       "      <td>0.694862</td>\n",
       "    </tr>\n",
       "    <tr>\n",
       "      <th>hurriyat</th>\n",
       "      <td>0.503095</td>\n",
       "    </tr>\n",
       "    <tr>\n",
       "      <th>visit</th>\n",
       "      <td>0.397135</td>\n",
       "    </tr>\n",
       "    <tr>\n",
       "      <th>pak</th>\n",
       "      <td>0.326108</td>\n",
       "    </tr>\n",
       "    <tr>\n",
       "      <th>00</th>\n",
       "      <td>0.000000</td>\n",
       "    </tr>\n",
       "    <tr>\n",
       "      <th>...</th>\n",
       "      <td>...</td>\n",
       "    </tr>\n",
       "    <tr>\n",
       "      <th>flexibility</th>\n",
       "      <td>0.000000</td>\n",
       "    </tr>\n",
       "    <tr>\n",
       "      <th>flexibile</th>\n",
       "      <td>0.000000</td>\n",
       "    </tr>\n",
       "    <tr>\n",
       "      <th>flexi</th>\n",
       "      <td>0.000000</td>\n",
       "    </tr>\n",
       "    <tr>\n",
       "      <th>flexes</th>\n",
       "      <td>0.000000</td>\n",
       "    </tr>\n",
       "    <tr>\n",
       "      <th>zzzz</th>\n",
       "      <td>0.000000</td>\n",
       "    </tr>\n",
       "  </tbody>\n",
       "</table>\n",
       "<p>100147 rows × 1 columns</p>\n",
       "</div>"
      ],
      "text/plain": [
       "               TF-IDF\n",
       "fissures     0.694862\n",
       "hurriyat     0.503095\n",
       "visit        0.397135\n",
       "pak          0.326108\n",
       "00           0.000000\n",
       "...               ...\n",
       "flexibility  0.000000\n",
       "flexibile    0.000000\n",
       "flexi        0.000000\n",
       "flexes       0.000000\n",
       "zzzz         0.000000\n",
       "\n",
       "[100147 rows x 1 columns]"
      ]
     },
     "execution_count": 16,
     "metadata": {},
     "output_type": "execute_result"
    }
   ],
   "source": [
    "df_tfidf2"
   ]
  },
  {
   "cell_type": "code",
   "execution_count": 17,
   "id": "67f44a2d",
   "metadata": {},
   "outputs": [],
   "source": [
    "from sklearn.metrics.pairwise import cosine_similarity"
   ]
  },
  {
   "cell_type": "code",
   "execution_count": 18,
   "id": "2493d1ef",
   "metadata": {},
   "outputs": [
    {
     "name": "stdout",
     "output_type": "stream",
     "text": [
      "0.0\n"
     ]
    }
   ],
   "source": [
    "doc2_tfidf=tfidf.transform([\"pak attack\"])\n",
    "# calculate the cosine similarity between the documents\n",
    "sim = cosine_similarity(tfidf_matrix, doc2_tfidf)\n",
    "print(sim[0][0])"
   ]
  },
  {
   "cell_type": "code",
   "execution_count": 19,
   "id": "70d47220",
   "metadata": {},
   "outputs": [],
   "source": [
    "text_content=df['headline_text']"
   ]
  },
  {
   "cell_type": "code",
   "execution_count": 20,
   "id": "4b659fba",
   "metadata": {},
   "outputs": [],
   "source": [
    "doc2_tfidf=tfidf.transform([\"Status quo will not be disturbed \"])\n",
    "# calculate the cosine similarity between the documents\n",
    "sim1 = cosine_similarity(tfidf_matrix, doc2_tfidf).flatten()"
   ]
  },
  {
   "cell_type": "code",
   "execution_count": 24,
   "id": "ea93c94d",
   "metadata": {},
   "outputs": [
    {
     "name": "stdout",
     "output_type": "stream",
     "text": [
      "[0.80654197 0.         0.         ... 0.         0.         0.        ]\n"
     ]
    }
   ],
   "source": [
    "print(sim1)"
   ]
  },
  {
   "cell_type": "code",
   "execution_count": 21,
   "id": "edff5325",
   "metadata": {},
   "outputs": [
    {
     "name": "stdout",
     "output_type": "stream",
     "text": [
      "Top related headlines:\n",
      "Status quo will not be disturbed at Ayodhya; says Vajpayee\n",
      "Bollywood acting guru comes south\n",
      "She has a baby at 56\n",
      "China sets up quake monitoring station at Everest\n",
      "Kerala assembly adjourns sine die\n",
      "Fresh culling of 1;500 birds begin in MP\n",
      "Heres why theyre high\n",
      "Educated and aware but still suffering\n",
      "Saif; Rosa are game for it\n"
     ]
    }
   ],
   "source": [
    "# sort the headlines by cosine similarity and print the top results\n",
    "related_headlines_indices = sim1.argsort()[:-10:-1]\n",
    "print(\"Top related headlines:\")\n",
    "for i in related_headlines_indices:\n",
    "    print(text_content[i])"
   ]
  },
  {
   "cell_type": "code",
   "execution_count": 22,
   "id": "b7c26fe0",
   "metadata": {},
   "outputs": [
    {
     "name": "stdout",
     "output_type": "stream",
     "text": [
      "[     0 130691  86060 835939  86059 402651 317378  75302 438213]\n"
     ]
    }
   ],
   "source": [
    "print(related_headlines_indices)"
   ]
  },
  {
   "cell_type": "code",
   "execution_count": 23,
   "id": "1924035b",
   "metadata": {},
   "outputs": [
    {
     "name": "stdout",
     "output_type": "stream",
     "text": [
      "1.0000000000000002\n"
     ]
    }
   ],
   "source": [
    "doc4_tfidf=tfidf.transform([\"Fissures in Hurriyat over Pak visit\"])\n",
    "# calculate the cosine similarity between the documents\n",
    "sim2 = cosine_similarity(tfidf_matrix, doc4_tfidf)\n",
    "print(sim2[1][0])"
   ]
  },
  {
   "cell_type": "code",
   "execution_count": 29,
   "id": "fb5282ca",
   "metadata": {},
   "outputs": [
    {
     "name": "stdout",
     "output_type": "stream",
     "text": [
      "Enter your query: Status quo will not be disturbed\n"
     ]
    }
   ],
   "source": [
    "# Get user query\n",
    "query = input(\"Enter your query: \")\n",
    "doc3_tfidf=tfidf.transform([query])\n",
    "# calculate the cosine similarity between the documents\n",
    "sim3 = cosine_similarity(tfidf_matrix, doc3_tfidf).flatten()\n"
   ]
  },
  {
   "cell_type": "code",
   "execution_count": 30,
   "id": "db748c98",
   "metadata": {},
   "outputs": [
    {
     "name": "stdout",
     "output_type": "stream",
     "text": [
      "[0.80654197 0.         0.         ... 0.         0.         0.        ]\n"
     ]
    }
   ],
   "source": [
    "print(sim3)"
   ]
  },
  {
   "cell_type": "code",
   "execution_count": 31,
   "id": "94115b3b",
   "metadata": {},
   "outputs": [
    {
     "name": "stdout",
     "output_type": "stream",
     "text": [
      "Top related headlines:\n",
      "Status quo will not be disturbed at Ayodhya; says Vajpayee\n",
      "Bollywood acting guru comes south\n",
      "She has a baby at 56\n",
      "China sets up quake monitoring station at Everest\n"
     ]
    }
   ],
   "source": [
    "# sort the headlines by cosine similarity and print the top results\n",
    "related_headlines_indices = sim3.argsort()[:-5:-1]\n",
    "print(\"Top related headlines:\")\n",
    "for i in related_headlines_indices:\n",
    "    print(text_content[i])"
   ]
  },
  {
   "cell_type": "code",
   "execution_count": null,
   "id": "8fcbf3bb",
   "metadata": {},
   "outputs": [],
   "source": []
  }
 ],
 "metadata": {
  "kernelspec": {
   "display_name": "Python 3 (ipykernel)",
   "language": "python",
   "name": "python3"
  },
  "language_info": {
   "codemirror_mode": {
    "name": "ipython",
    "version": 3
   },
   "file_extension": ".py",
   "mimetype": "text/x-python",
   "name": "python",
   "nbconvert_exporter": "python",
   "pygments_lexer": "ipython3",
   "version": "3.8.8"
  }
 },
 "nbformat": 4,
 "nbformat_minor": 5
}
